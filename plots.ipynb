{
 "cells": [
  {
   "cell_type": "code",
   "execution_count": 3,
   "metadata": {},
   "outputs": [
    {
     "data": {
      "image/png": "[encoded data removed]",
      "text/plain": [
       "<Figure size 432x288 with 1 Axes>"
      ]
     },
     "metadata": {
      "needs_background": "light"
     },
     "output_type": "display_data"
    }
   ],
   "source": [
    "import matplotlib.pyplot as plt\n",
    "from collections import Counter\n",
    "import numpy as np\n",
    "num_files = [10, 10, 10, 10, 10, 10, 10, 10, 10, 10, 10, 10, 10, 10, 10, 10, 10, 10, 10, 9, 10, 10, 10, 10, 10, 10, 10, 10, 10, 10, 10, 10, 10, 9, 10, 10, 10, 10, 10, 10, 10, 10, 10, 10, 10, 10, 7, 10, 10, 10, 10, 10, 10, 10, 5, 1, 10, 10, 10, 10, 10, 10, 10, 6, 10, 1, 10, 9, 10]\n",
    "\n",
    "\n",
    "file_counts = \"\"\"\n",
    "./addie9000               : 10\n",
    "./alexamici               : 10\n",
    "./amv                     : 10\n",
    "./anavaleije              : 10\n",
    "./anb                     : 10\n",
    "./argaen                  : 10\n",
    "./bastiandantilus         : 10\n",
    "./bigonion                : 10\n",
    "./binnie                  : 10\n",
    "./caethan                 : 10\n",
    "./cathco                  : 10\n",
    "./cheilman                : 10\n",
    "./chevaliermalfet         : 10\n",
    "./coconutbig              : 10\n",
    "./eko                     : 10\n",
    "./elmoatasem              : 10\n",
    "./enterr                  : 10\n",
    "./entropy                 : 10\n",
    "./fizu                    : 10\n",
    "./fractal                 : 9\n",
    "./gepa                    : 10\n",
    "./gizzywump               : 10\n",
    "./graygrass               : 10\n",
    "./greatlemer              : 10\n",
    "./hannanaha               : 10\n",
    "./idahojacket             : 10\n",
    "./idolivneh               : 10\n",
    "./imakaramegane           : 10\n",
    "./intn                    : 10\n",
    "./j3ffreysmith            : 10\n",
    "./j4b                     : 10\n",
    "./jakab922                : 10\n",
    "./jgaten                  : 9\n",
    "./joegunrok               : 10\n",
    "./kawasaki                : 10\n",
    "./kmod                    : 10\n",
    "./lookingfor              : 10\n",
    "./maxbublis               : 10\n",
    "./michael                 : 10\n",
    "./mth                     : 10\n",
    "./netsuso                 : 10\n",
    "./nlse                    : 10\n",
    "./nooodles                : 10\n",
    "./nwin                    : 10\n",
    "./oonishi                 : 7\n",
    "./pavlovic                : 10\n",
    "./pawko                   : 10\n",
    "./pek                     : 10\n",
    "./pyronimous              : 10\n",
    "./radkokotev              : 10\n",
    "./rainmayecho             : 10\n",
    "./rajabaz                 : 10\n",
    "./ralfkistner             : 5\n",
    "./raphaelj                : 1\n",
    "./rmmh                    : 10\n",
    "./royf                    : 10\n",
    "./serialk                 : 10\n",
    "./shishkander             : 10\n",
    "./sickmath                : 10\n",
    "./taichino                : 10\n",
    "./tamaeguchi              : 10\n",
    "./tor                     : 6\n",
    "./xoxie                   : 10\n",
    "./yaoshimax               : 1\n",
    "./yoba                    : 10\n",
    "./yordan                  : 9\n",
    "./ziyan                   : 10\n",
    "\"\"\"\n",
    "\n",
    "# Split the file counts into lines and strip whitespace\n",
    "lines = file_counts.strip().split(\"\\n\")\n",
    "\n",
    "# Split each line on ':' and strip whitespace to form a dictionary\n",
    "data = {line.split(\":\")[0].strip(): int(line.split(\":\")[1].strip()) for line in lines}\n",
    "\n",
    "\n",
    "\n",
    "\n",
    "# assuming data is your dictionary of author file counts\n",
    "author_file_counts = list(data.values())\n",
    "\n",
    "sorted_counts = sorted(author_file_counts, reverse=True)\n",
    "\n",
    "# generate indices for x-axis\n",
    "indices = range(len(sorted_counts))\n",
    "\n",
    "plt.bar(indices, sorted_counts)\n",
    "plt.xlabel('Author Index')\n",
    "plt.ylabel('Number of Files')\n",
    "plt.title('Number of Files per Author, Sorted (Reversed)')\n",
    "plt.grid(True)\n",
    "plt.show()\n",
    "\n"
   ]
  },
  {
   "cell_type": "code",
   "execution_count": 9,
   "metadata": {},
   "outputs": [
    {
     "name": "stdout",
     "output_type": "stream",
     "text": [
      "[10, 9, 7, 5, 1, 6] [59, 3, 1, 1, 2, 1]\n"
     ]
    },
    {
     "data": {
      "image/png": "[encoded data removed]",
      "text/plain": [
       "<Figure size 432x288 with 1 Axes>"
      ]
     },
     "metadata": {
      "needs_background": "light"
     },
     "output_type": "display_data"
    }
   ],
   "source": [
    "from collections import Counter\n",
    "\n",
    "# assuming data is your dictionary of author file counts\n",
    "author_file_counts = list(data.values())\n",
    "\n",
    "# count the frequency of each file count\n",
    "file_counts_frequency = Counter(author_file_counts)\n",
    "\n",
    "# separate keys (file counts) and values (frequencies)\n",
    "file_counts = list(file_counts_frequency.keys())\n",
    "frequencies = list(file_counts_frequency.values())\n",
    "print(file_counts,frequencies)\n",
    "\n",
    "plt.bar(file_counts, frequencies)\n",
    "plt.xlabel('Number of Files per Author')\n",
    "plt.ylabel('Number of Authors')\n",
    "plt.title('Distribution of File Counts')\n",
    "plt.grid(True)\n",
    "plt.show()"
   ]
  }
 ],
 "metadata": {
  "kernelspec": {
   "display_name": "venv",
   "language": "python",
   "name": "python3"
  },
  "language_info": {
   "codemirror_mode": {
    "name": "ipython",
    "version": 3
   },
   "file_extension": ".py",
   "mimetype": "text/x-python",
   "name": "python",
   "nbconvert_exporter": "python",
   "pygments_lexer": "ipython3",
   "version": "3.7.9"
  },
  "orig_nbformat": 4
 },
 "nbformat": 4,
 "nbformat_minor": 2
}
